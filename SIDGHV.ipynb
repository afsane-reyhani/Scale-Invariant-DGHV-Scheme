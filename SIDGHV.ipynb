{
 "cells": [
  {
   "cell_type": "code",
   "execution_count": 1,
   "metadata": {},
   "outputs": [],
   "source": [
    "import random\n",
    "import numpy as np\n",
    "import math"
   ]
  },
  {
   "cell_type": "markdown",
   "metadata": {},
   "source": [
    "## convert a positive integer x into binary"
   ]
  },
  {
   "cell_type": "code",
   "execution_count": 2,
   "metadata": {},
   "outputs": [],
   "source": [
    "def digits(x): #always binary\n",
    "            x = int(x)\n",
    "            le = list('{0:0b}'.format(x))\n",
    "            le.reverse()\n",
    "            return le"
   ]
  },
  {
   "cell_type": "markdown",
   "metadata": {},
   "source": [
    "## Converts a positive integer x into binary with l digits"
   ]
  },
  {
   "cell_type": "code",
   "execution_count": 3,
   "metadata": {},
   "outputs": [],
   "source": [
    "def toBinary(x,l):\n",
    "        x=int(x)\n",
    "        return digits(x+2**l)[:-1]"
   ]
  },
  {
   "cell_type": "markdown",
   "metadata": {},
   "source": [
    "# – BitDecomp"
   ]
  },
  {
   "cell_type": "code",
   "execution_count": 4,
   "metadata": {},
   "outputs": [],
   "source": [
    "def BitDecomp(v,η):\n",
    "    v=list(v)\n",
    "    v=extractKBitsLIST(v,η)\n",
    "    n=len(v)\n",
    "    arr = np.empty((0,η), int)\n",
    "   # print(\"1\",arr)\n",
    "    for i in v:\n",
    "         row=toBinary(i,η)\n",
    "        # print(\"row\",row)\n",
    "         arr = np.append(arr, np.array([row]), axis=0)\n",
    "       #  print(arr)\n",
    "    #print(\"arr2\",arr)\n",
    "    return arr"
   ]
  },
  {
   "cell_type": "markdown",
   "metadata": {},
   "source": [
    "# – PowersofTwo"
   ]
  },
  {
   "cell_type": "code",
   "execution_count": 5,
   "metadata": {},
   "outputs": [],
   "source": [
    "def PowersofTwo(w,η):\n",
    "     w=list(w)\n",
    "     n= len(w)\n",
    "     arr = np.empty((n,0), int)\n",
    "     for i in range (0,η) :\n",
    "            column=np.multiply((2**i),w)\n",
    "            arr=np.c_[arr,column]\n",
    "     print(arr)\n",
    "     return arr       "
   ]
  },
  {
   "cell_type": "markdown",
   "metadata": {},
   "source": [
    "# convert list to string"
   ]
  },
  {
   "cell_type": "code",
   "execution_count": 6,
   "metadata": {},
   "outputs": [],
   "source": [
    "def listToString(s):  \n",
    "    \n",
    "    # initialize an empty string \n",
    "    str1 = \"\"  \n",
    "    \n",
    "    # traverse in the string   \n",
    "    for ele in s:  \n",
    "        str1 += ele   \n",
    "    \n",
    "    # return string   \n",
    "    return str1 "
   ]
  },
  {
   "cell_type": "markdown",
   "metadata": {},
   "source": [
    "# comput num to mod $2^k$ binarry "
   ]
  },
  {
   "cell_type": "code",
   "execution_count": 7,
   "metadata": {},
   "outputs": [],
   "source": [
    "def extractKBits(num,k): \n",
    "  \n",
    "     binary = toBinary(num,k) \n",
    "     binary.reverse()\n",
    "     binary=binary[-k:]\n",
    "     binary=listToString(binary)\n",
    "     kBitSubStr=int(binary,2)\n",
    "     return kBitSubStr"
   ]
  },
  {
   "cell_type": "markdown",
   "metadata": {},
   "source": [
    "# comput num to mod $2^k$ binarry  LIST"
   ]
  },
  {
   "cell_type": "code",
   "execution_count": 8,
   "metadata": {},
   "outputs": [],
   "source": [
    "def extractKBitsLIST(num,k): \n",
    "     L=[]\n",
    "     # convert number into binary first \n",
    "     for i in num:\n",
    "               binary = toBinary(i,k) \n",
    "               binary.reverse()\n",
    "               binary=binary[-k:]\n",
    "               binary=listToString(binary)\n",
    "               kBitSubStr=int(binary,2)\n",
    "               L.append(kBitSubStr)\n",
    "     return L "
   ]
  },
  {
   "cell_type": "markdown",
   "metadata": {},
   "source": [
    "## $\\lfloor \\frac{a}{b} \\rceil$   Gives the nearest integer to $\\frac{a}{b}$"
   ]
  },
  {
   "cell_type": "code",
   "execution_count": 9,
   "metadata": {},
   "outputs": [],
   "source": [
    "def QuotientNear(a,b):\n",
    "    a=int(a)\n",
    "    b=int(b)\n",
    "    return ((a<<1)+b)//(b<<1)"
   ]
  },
  {
   "cell_type": "markdown",
   "metadata": {},
   "source": [
    "## $ a \\quad mod \\quad b = a - b \\lfloor \\frac{a}{b} \\rceil $  Computes a mod b with $a \\in [\\frac{-b}{2},\\frac{b}{2}]$"
   ]
  },
  {
   "cell_type": "code",
   "execution_count": 10,
   "metadata": {},
   "outputs": [],
   "source": [
    "def modNear(a,b):\n",
    "    return a-b*QuotientNear(a,b)"
   ]
  },
  {
   "cell_type": "markdown",
   "metadata": {},
   "source": [
    "## $ a \\quad mod \\quad b = a - b \\lfloor \\frac{a}{b} \\rceil $  Computes a mod b with $a \\in [\\frac{-b}{2},\\frac{b}{2}]$ a=list ,b=number"
   ]
  },
  {
   "cell_type": "code",
   "execution_count": 11,
   "metadata": {},
   "outputs": [],
   "source": [
    "def mNear(a,b):\n",
    "    e=[]\n",
    "    for i in a:\n",
    "        e.append(QuotientNear(i,b))\n",
    "       # print(e)\n",
    "    return np.subtract(a,np.multiply(b,e))"
   ]
  },
  {
   "cell_type": "markdown",
   "metadata": {},
   "source": [
    "#  parameters and generate key"
   ]
  },
  {
   "cell_type": "code",
   "execution_count": 12,
   "metadata": {},
   "outputs": [],
   "source": [
    "def keygeneration(λ):\n",
    "    # in the security parameter λ\n",
    "    λ = int(input(\"enter security parameter\"))\n",
    "    print(\"λ\",λ)\n",
    "    # L is the multiplicative depth\n",
    "    L = int(input(\"enter multiplicative depth\"))\n",
    "    print(\"L\",L)\n",
    "    # ρ is the bit-length of the first noise parameter.\n",
    "    ρ = 2*λ\n",
    "    ρ=QuotientNear(ρ,1)\n",
    "    print(\"ρ\",ρ)\n",
    "    # η is the bit-length of the secret key\n",
    "    η =λ +L\n",
    "    η=QuotientNear(η,1)\n",
    "    print(\"η\",η)\n",
    "    # γ is the bit-length of an approximate GCD sample.\n",
    "    γ = (L**2)*λ+(λ**2)\n",
    "    γ = QuotientNear(γ,1)\n",
    "    print(\"γ\",γ)\n",
    "    # τ is the number of integers in the public key.\n",
    "    τ = γ + 2*λ\n",
    "    τ = QuotientNear(τ,1)\n",
    "    print(\"τ\",τ)\n",
    "    θ = L*λ\n",
    "    θ = QuotientNear(θ,1)\n",
    "    print(\"θ\",θ)\n",
    "    print(\"Random integer from 2^(η-1) to 2^(η)\")\n",
    "    p = random.randint(2**(η-1), 2**(η))\n",
    "    while extractKBits(p,1)==0:\n",
    "                           p = random.randint(2**(η-1), 2**(η))\n",
    "    print(\"secret key: \", p)\n",
    "    \n",
    "    q_0=random.randint(0,(2**γ)//(p**2))\n",
    "    print(\"q_0\",q_0)\n",
    "    r_0=random.randint(-2**ρ,2**ρ)\n",
    "    x_0=q_0*(p**2)+r_0\n",
    "    q = []\n",
    "    r= []\n",
    "    for i in range(0, τ):\n",
    "                           q.append(random.randint(0, q_0))\n",
    "                           r.append(random.randint(-2**ρ,2**ρ))\n",
    "                           g=p**2\n",
    "                           s = np.multiply(g,q) \n",
    "                           x = np.add(s,r)\n",
    "                           x =list(x)\n",
    "    print(\"x\",x)\n",
    "    print(\"x_0\",x_0)\n",
    "    qq=random.randint(0, q_0)\n",
    "    rr=random.randint(-2**ρ,2**ρ)\n",
    "    yy=(p**2)*qq + rr\n",
    "    Y= yy + (QuotientNear(p-1,2))\n",
    "    Z=[]\n",
    "    for i in range(0,θ):\n",
    "        Z.append(random.uniform(0,2**η))\n",
    "    \n",
    "    k=(2**γ)+2\n",
    "    k=QuotientNear(k,1)\n",
    "    epsilon=extractKBits(2**(-k),η)\n",
    "    a=10000\n",
    "    while abs(a) > epsilon :\n",
    "        S=np.random.randint(0,2,θ,dtype=np.int64)\n",
    "        aa=np.inner(np.array(S),np.array(Z))\n",
    "        #aa=extractKBits(aa,η)\n",
    "        aaa=(2**η)/(p**2)\n",
    "        #aaa=extractKBits(aaa,η)\n",
    "        aaaa=aaa-aa\n",
    "        a=extractKBits(aaaa,η)\n",
    "        #a=aaaa%(2**η)\n",
    "    print(\"S\",S)\n",
    "    print(\"Z\",Z)\n",
    "    SS=PowersofTwo(S,η)\n",
    "    print(\"SS\",SS)\n",
    "    print(np.shape(SS))\n",
    "    qqq=np.random.randint(0,(2**γ)//(p**2),(θ,η),dtype=np.int64)\n",
    "    print(\"qqq\",qqq)\n",
    "    print(np.shape(qqq))\n",
    "    #qqq=np.empty((0,θ))\n",
    "       \n",
    "    rrr=np.random.randint(-2**ρ,2**ρ,(θ,η),dtype=np.int64)\n",
    "    print(\"rrr\",rrr)\n",
    "    print(np.shape(rrr))\n",
    "    jj =np.multiply(qqq,(p**2))\n",
    "    print('jj',jj)\n",
    "    print(np.shape(jj))\n",
    "    σσ =np.add(jj,rrr)\n",
    "    print(\"σσ\",σσ)\n",
    "    print(np.shape(σσ))\n",
    "    jjj=np.multiply(SS,(p/(2**(η+1))))\n",
    "    print(\"jjj\",jjj)\n",
    "    print(np.shape(jjj))\n",
    "    σσσ=np.empty((0,η) , int)\n",
    "    for i in jjj:\n",
    "        row=[]\n",
    "        for j in i:\n",
    "            j=QuotientNear(j,1)\n",
    "            row.append(j)\n",
    "        σσσ=np.append(σσσ, np.array([row]), axis=0)\n",
    "    print(\"σσσ\",σσσ)\n",
    "    σ = np.add(σσ,σσσ)\n",
    "    print(\"σ\",σ)\n",
    "    return λ,L,ρ,η,γ,τ,θ,x_0,x,q_0,p,Y,σ,S,Z"
   ]
  },
  {
   "cell_type": "markdown",
   "metadata": {},
   "source": [
    "### generate list plain text"
   ]
  },
  {
   "cell_type": "code",
   "execution_count": 13,
   "metadata": {},
   "outputs": [],
   "source": [
    "def plaintext(n):\n",
    "    n = int(input(\"Enter number of elements : \"))\n",
    "    m = np.random.randint(0,2,n)\n",
    "    print('plaintext' ,m)\n",
    "    return m"
   ]
  },
  {
   "cell_type": "markdown",
   "metadata": {},
   "source": [
    "# encryption"
   ]
  },
  {
   "cell_type": "code",
   "execution_count": 14,
   "metadata": {},
   "outputs": [],
   "source": [
    "def enc(m,x,x_0,θ,Y,τ):\n",
    "    m = list(m)\n",
    "# creating an empty list \n",
    "    S = [] \n",
    "# iterating till the range \n",
    "    for i in range(0, len(m)): \n",
    "         ele =  random.sample(list(x),random.randint(0,τ)) \n",
    "         ele = sum(ele)\n",
    "         S.append(ele)\n",
    "    cc=np.multiply(Y,m)\n",
    "    ccc=np.add(S,cc)\n",
    "    c=mNear(ccc,x_0)\n",
    "    c=list(c)\n",
    "    print(\"ciphertext\",c)\n",
    "    return c"
   ]
  },
  {
   "cell_type": "markdown",
   "metadata": {},
   "source": [
    "# decription"
   ]
  },
  {
   "cell_type": "code",
   "execution_count": 15,
   "metadata": {},
   "outputs": [],
   "source": [
    "def dec(c,p):\n",
    "    #ddd=np.multiplay(2,c)\n",
    "    d=[]\n",
    "    for i in c:\n",
    "        i=int(i)\n",
    "        i=i<<1\n",
    "        i=i%p\n",
    "        #i=extractKBits(i,1)\n",
    "        #i=modNear(i,2)\n",
    "        i=i%2\n",
    "        d.append(i)\n",
    "    print(\"decription\",d)\n",
    "    return d"
   ]
  },
  {
   "cell_type": "markdown",
   "metadata": {},
   "source": [
    "# error decription"
   ]
  },
  {
   "cell_type": "code",
   "execution_count": 16,
   "metadata": {},
   "outputs": [],
   "source": [
    "def error(d,m):\n",
    "    m=list(m)\n",
    "    xx = np.add(d,m)\n",
    "    xxx  = xx % 2\n",
    "    x  = list(xxx)\n",
    "    error=sum(x)\n",
    "    print('error', error)"
   ]
  },
  {
   "cell_type": "markdown",
   "metadata": {},
   "source": [
    "# convert "
   ]
  },
  {
   "cell_type": "code",
   "execution_count": 17,
   "metadata": {},
   "outputs": [],
   "source": [
    "def convert(c,x,x_0,θ,Y,τ,σ,Z,η):\n",
    "    cc=[]\n",
    "    for i in Z:\n",
    "        a=c*i\n",
    "        a=QuotientNear(a,1)\n",
    "        cc.append(a)\n",
    "    ccc=extractKBitsLIST(cc,η)\n",
    "    σ=σ.flatten()\n",
    "  #  print(σ)\n",
    "    #σ=np.asmatrix(σ)\n",
    "    #σ=list(σ)\n",
    "    aa = BitDecomp(ccc,η)\n",
    "    aa=aa.flatten()\n",
    "   # print(aa)\n",
    "    aaa=[]\n",
    "    for i in aa:\n",
    "        i=int(i)\n",
    "        aaa.append(i)\n",
    "         #aa=np.asmatrix(aa)\n",
    "    #aa=list(aa)\n",
    "    aaaa=np.inner(σ,aaa)\n",
    "    aaaaa=2*aaaa\n",
    "    return aaaaa                "
   ]
  },
  {
   "cell_type": "markdown",
   "metadata": {},
   "source": [
    "# ADD"
   ]
  },
  {
   "cell_type": "code",
   "execution_count": 18,
   "metadata": {},
   "outputs": [],
   "source": [
    "def ADD(c,p,m,x_0):\n",
    "    c=list(c)\n",
    "    m=list(m)\n",
    "    sum_addc=sum(c)\n",
    "    sum_addc=modNear(sum_addc,x_0)\n",
    "    sum_addc=([sum_addc])\n",
    "    dc=dec(sum_addc,p)\n",
    "    print(\"saddc\",dc)\n",
    "    sum_addm=sum(m)\n",
    "    sum_addm=sum_addm%2\n",
    "    sum_addm=([sum_addm])\n",
    "    print(\"saddm\",sum_addm)\n",
    "    print(error(dc,sum_addm))"
   ]
  },
  {
   "cell_type": "markdown",
   "metadata": {},
   "source": [
    "# MULTIPLACTION"
   ]
  },
  {
   "cell_type": "code",
   "execution_count": 19,
   "metadata": {},
   "outputs": [],
   "source": [
    "def mult(c,p,m,x,x_0,θ,Y,τ,σ,Z,η):\n",
    "    c=list(c)\n",
    "    m=list(m)\n",
    "    mul_c=np.prod(c)\n",
    "    mul_c=mul_c*2\n",
    "    mul_c=convert(mul_c,x,x_0,θ,Y,τ,σ,Z,η)\n",
    "    mul_c=modNear(mul_c,x_0)\n",
    "    mul_c=list([mul_c])\n",
    "    dc=dec(mul_c,p)\n",
    "    print(\"mullc\",dc)\n",
    "    mul_m=np.prod(m)\n",
    "    mul_m=mul_m%2\n",
    "    mul_m=list([mul_m])\n",
    "    print(\"mul_m\",mul_m)\n",
    "    print(error(dc,mul_m))   "
   ]
  },
  {
   "cell_type": "code",
   "execution_count": null,
   "metadata": {},
   "outputs": [],
   "source": []
  }
 ],
 "metadata": {
  "kernelspec": {
   "display_name": "Python 3",
   "language": "python",
   "name": "python3"
  },
  "language_info": {
   "codemirror_mode": {
    "name": "ipython",
    "version": 3
   },
   "file_extension": ".py",
   "mimetype": "text/x-python",
   "name": "python",
   "nbconvert_exporter": "python",
   "pygments_lexer": "ipython3",
   "version": "3.7.6"
  }
 },
 "nbformat": 4,
 "nbformat_minor": 4
}
